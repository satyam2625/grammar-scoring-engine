{
 "cells": [
  {
   "cell_type": "code",
   "execution_count": 4,
   "id": "e0229cd5",
   "metadata": {},
   "outputs": [
    {
     "name": "stdout",
     "output_type": "stream",
     "text": [
      "Project root: c:\\Users\\DELL\\grammar-scoring-engine\n",
      "\n",
      "JSON files found:\n",
      "\n",
      "CSV files found:\n"
     ]
    }
   ],
   "source": [
    "# Cell A — run this to list all JSON/CSV files under data/\n",
    "import os, glob\n",
    "project_root = os.path.abspath(os.path.join(os.getcwd(), \"..\"))\n",
    "print(\"Project root:\", project_root)\n",
    "pattern_json = os.path.join(project_root, \"data\", \"**\", \"*.json\")\n",
    "pattern_csv  = os.path.join(project_root, \"data\", \"**\", \"*.csv\")\n",
    "\n",
    "print(\"\\nJSON files found:\")\n",
    "for p in sorted(glob.glob(pattern_json, recursive=True)):\n",
    "    print(\"  \", p)\n",
    "\n",
    "print(\"\\nCSV files found:\")\n",
    "for p in sorted(glob.glob(pattern_csv, recursive=True)):\n",
    "    print(\"  \", p)\n"
   ]
  }
 ],
 "metadata": {
  "kernelspec": {
   "display_name": ".venv",
   "language": "python",
   "name": "python3"
  },
  "language_info": {
   "codemirror_mode": {
    "name": "ipython",
    "version": 3
   },
   "file_extension": ".py",
   "mimetype": "text/x-python",
   "name": "python",
   "nbconvert_exporter": "python",
   "pygments_lexer": "ipython3",
   "version": "3.13.6"
  }
 },
 "nbformat": 4,
 "nbformat_minor": 5
}
